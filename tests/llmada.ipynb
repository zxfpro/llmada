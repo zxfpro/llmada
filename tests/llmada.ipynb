{
 "cells": [
  {
   "cell_type": "code",
   "execution_count": 1,
   "id": "16947031-ea81-4f5a-b110-70bbfe2b1dd1",
   "metadata": {
    "tags": []
   },
   "outputs": [
    {
     "name": "stdout",
     "output_type": "stream",
     "text": [
      "/Users/zhaoxuefeng/GitHub/llmada/src\n"
     ]
    }
   ],
   "source": [
    "%cd ~/GitHub/llmada/src"
   ]
  },
  {
   "cell_type": "markdown",
   "id": "e58e0127-1696-4f87-9e4f-b35c62713e5b",
   "metadata": {},
   "source": [
    "# bianxie"
   ]
  },
  {
   "cell_type": "code",
   "execution_count": 2,
   "id": "fc4cab9f-9d62-4881-98dd-650904ad1afd",
   "metadata": {
    "tags": []
   },
   "outputs": [],
   "source": [
    "from llmada import BianXieAdapter"
   ]
  },
  {
   "cell_type": "code",
   "execution_count": 3,
   "id": "6d28719d-6b28-4b96-b6fd-2371ca7347ab",
   "metadata": {
    "tags": []
   },
   "outputs": [],
   "source": [
    "bx = BianXieAdapter()"
   ]
  },
  {
   "cell_type": "code",
   "execution_count": 4,
   "id": "6df96ecf-40e1-40ae-b4c1-7359a8b34ea7",
   "metadata": {
    "tags": []
   },
   "outputs": [],
   "source": [
    "bx.set_model('gpt-3.5-turbo')"
   ]
  },
  {
   "cell_type": "code",
   "execution_count": 5,
   "id": "adc813e6-35e3-46d1-bb79-2ca2bd24402c",
   "metadata": {
    "tags": []
   },
   "outputs": [
    {
     "name": "stdout",
     "output_type": "stream",
     "text": [
      "2.2560229301452637\n"
     ]
    },
    {
     "data": {
      "text/plain": [
       "'Hello! How can I assist you today?'"
      ]
     },
     "execution_count": 5,
     "metadata": {},
     "output_type": "execute_result"
    }
   ],
   "source": [
    "bx.product('hello')"
   ]
  },
  {
   "cell_type": "code",
   "execution_count": 6,
   "id": "69018eb7-6ad7-4dc9-bc91-cb41d477b66e",
   "metadata": {
    "tags": []
   },
   "outputs": [
    {
     "name": "stdout",
     "output_type": "stream",
     "text": [
      "Received streaming response:\n",
      "Hello! How can I assist you today?\n",
      "(Streaming finished) 1.8848471641540527\n"
     ]
    }
   ],
   "source": [
    "for i in bx.product_stream('hello'):\n",
    "    print(i, end=\"\")"
   ]
  },
  {
   "cell_type": "code",
   "execution_count": 7,
   "id": "5d6bf526-c1a9-4703-a449-32a249156571",
   "metadata": {
    "tags": []
   },
   "outputs": [
    {
     "name": "stdout",
     "output_type": "stream",
     "text": [
      "1.8273937702178955\n"
     ]
    },
    {
     "data": {
      "text/plain": [
       "'你好！有什么可以帮助你的吗？'"
      ]
     },
     "execution_count": 7,
     "metadata": {},
     "output_type": "execute_result"
    }
   ],
   "source": [
    "bx.chat([{'role':'user','content':'你好'}])"
   ]
  },
  {
   "cell_type": "code",
   "execution_count": 9,
   "id": "31f84819-cd44-471e-8c56-80a115054e89",
   "metadata": {
    "tags": []
   },
   "outputs": [
    {
     "name": "stdout",
     "output_type": "stream",
     "text": [
      "Received streaming response:\n",
      "Hello! How can I assist you today?\n",
      "(Streaming finished) 2.101140022277832\n"
     ]
    }
   ],
   "source": [
    "for i in bx.chat_stream_history('hello'):\n",
    "    print(i, end=\"\")"
   ]
  },
  {
   "cell_type": "code",
   "execution_count": 10,
   "id": "6fd590d6-587b-428e-918c-3ef61e1df3fa",
   "metadata": {
    "tags": []
   },
   "outputs": [
    {
     "name": "stdout",
     "output_type": "stream",
     "text": [
      "Received streaming response:\n",
      "你好！有什么可以帮助你的吗？\n",
      "(Streaming finished) 1.993128776550293\n"
     ]
    }
   ],
   "source": [
    "for i in bx.chat_stream([{'role':'user','content':'你好'}]):\n",
    "    print(i, end=\"\")"
   ]
  },
  {
   "cell_type": "code",
   "execution_count": 11,
   "id": "9e949d7b-f5a8-4d6c-835e-6b9f87e4bb1c",
   "metadata": {
    "collapsed": true,
    "jupyter": {
     "outputs_hidden": true
    },
    "tags": []
   },
   "outputs": [
    {
     "data": {
      "text/plain": [
       "['gemini-2.5-flash-preview-04-17-nothinking',\n",
       " 'gpt-3.5-turbo',\n",
       " 'gpt-4.1',\n",
       " 'gpt-4.1-2025-04-14',\n",
       " 'gpt-4.1-mini',\n",
       " 'gpt-4.1-mini-2025-04-14',\n",
       " 'gpt-4.1-nano',\n",
       " 'gpt-4.1-nano-2025-04-14',\n",
       " 'gpt-4o',\n",
       " 'gpt-4o-2024-11-20',\n",
       " 'gpt-4o-audio-preview',\n",
       " 'gpt-4o-audio-preview-2024-10-01',\n",
       " 'gpt-4o-audio-preview-2024-12-17',\n",
       " 'gpt-4o-all',\n",
       " 'gpt-4o-image',\n",
       " 'gpt-4o-image-vip',\n",
       " 'gpt-4o-mini',\n",
       " 'gpt-4o-mini-2024-07-18',\n",
       " 'gpt-4o-mini-audio-preview',\n",
       " 'gpt-4o-mini-audio-preview-2024-12-17',\n",
       " 'gpt-4o-mini-realtime-preview',\n",
       " 'gpt-4o-mini-realtime-preview-2024-12-17',\n",
       " 'gpt-4o-mini-search-preview',\n",
       " 'gpt-4o-mini-search-preview-2025-03-11',\n",
       " 'gpt-4o-realtime-preview',\n",
       " 'gpt-4o-realtime-preview-2024-10-01',\n",
       " 'gpt-4o-realtime-preview-2024-12-17',\n",
       " 'gpt-4o-search-preview-2025-03-11',\n",
       " 'gpt-4o-search-preview',\n",
       " 'claude-3-5-haiku-20241022',\n",
       " 'claude-3-5-haiku-latest',\n",
       " 'claude-3-5-sonnet-20240620',\n",
       " 'claude-3-5-sonnet-20241022',\n",
       " 'claude-3-5-sonnet-20241022-all',\n",
       " 'claude-3-5-sonnet-all',\n",
       " 'claude-3-5-sonnet-latest',\n",
       " 'claude-3-7-sonnet-20250219',\n",
       " 'claude-3-7-sonnet-20250219-thinking',\n",
       " 'claude-3-haiku-20240307',\n",
       " 'coder-claude3.5-sonnet',\n",
       " 'coder-claude3.7-sonnet',\n",
       " 'gemini-2.0-flash',\n",
       " 'gemini-2.0-flash-exp',\n",
       " 'gemini-2.0-flash-exp-image-generation',\n",
       " 'gemini-2.0-flash-thinking-exp',\n",
       " 'gemini-2.0-flash-thinking-exp-01-21',\n",
       " 'gemini-2.0-pro-exp-02-05',\n",
       " 'gemini-2.5-flash-preview-04-17',\n",
       " 'gemini-2.5-flash-preview-04-17-thinking',\n",
       " 'gemini-2.5-pro-exp-03-25',\n",
       " 'gemini-2.5-pro-preview-03-25',\n",
       " 'grok-3',\n",
       " 'grok-3-beta',\n",
       " 'grok-3-deepsearch',\n",
       " 'grok-3-mini-beta',\n",
       " 'grok-3-fast-beta',\n",
       " 'grok-3-mini-fast-beta',\n",
       " 'grok-3-reasoner',\n",
       " 'grok-beta',\n",
       " 'grok-vision-beta',\n",
       " 'o1-mini',\n",
       " 'o1-mini-2024-09-12',\n",
       " 'o3-mini',\n",
       " 'o3-mini-2025-01-31',\n",
       " 'o3-mini-all',\n",
       " 'o3-mini-high',\n",
       " 'o3-mini-low',\n",
       " 'o3-mini-medium',\n",
       " 'o4-mini',\n",
       " 'o4-mini-2025-04-16',\n",
       " 'o4-mini-high',\n",
       " 'o4-mini-medium',\n",
       " 'o4-mini-low',\n",
       " 'text-embedding-ada-002',\n",
       " 'text-embedding-3-small',\n",
       " 'text-embedding-3-large']"
      ]
     },
     "execution_count": 11,
     "metadata": {},
     "output_type": "execute_result"
    }
   ],
   "source": [
    "bx.get_model()"
   ]
  },
  {
   "cell_type": "code",
   "execution_count": 12,
   "id": "f671b9b3-214b-4cc6-b361-0e8cbe0b6e2e",
   "metadata": {
    "tags": []
   },
   "outputs": [
    {
     "data": {
      "text/plain": [
       "['gpt-4o']"
      ]
     },
     "execution_count": 12,
     "metadata": {},
     "output_type": "execute_result"
    }
   ],
   "source": [
    "bx.get_modal_model()"
   ]
  },
  {
   "cell_type": "code",
   "execution_count": null,
   "id": "9c2c6812-735a-4e08-8366-94f68899dfc8",
   "metadata": {},
   "outputs": [],
   "source": [
    "# TODO\n",
    "product_modal\n",
    "chat_modal\n",
    "product_stream_modal\n",
    "chat_stream_modal\n",
    "chat_stream_history_modal"
   ]
  },
  {
   "cell_type": "code",
   "execution_count": 13,
   "id": "2cb8eb03-9822-41aa-aedd-e931d344b736",
   "metadata": {
    "tags": []
   },
   "outputs": [],
   "source": [
    "from llmada import set_llama_index"
   ]
  },
  {
   "cell_type": "code",
   "execution_count": 17,
   "id": "cd1427e8-8448-444f-b8aa-ede533a5043a",
   "metadata": {
    "collapsed": true,
    "jupyter": {
     "outputs_hidden": true
    },
    "tags": []
   },
   "outputs": [
    {
     "ename": "TypeError",
     "evalue": "llama_index.llms.openai.base.OpenAI() got multiple values for keyword argument 'api_key'",
     "output_type": "error",
     "traceback": [
      "\u001b[0;31m---------------------------------------------------------------------------\u001b[0m",
      "\u001b[0;31mTypeError\u001b[0m                                 Traceback (most recent call last)",
      "Cell \u001b[0;32mIn[17], line 1\u001b[0m\n\u001b[0;32m----> 1\u001b[0m \u001b[43mset_llama_index\u001b[49m\u001b[43m(\u001b[49m\u001b[43mllm_config\u001b[49m\u001b[43m \u001b[49m\u001b[38;5;241;43m=\u001b[39;49m\u001b[43m \u001b[49m\u001b[43m{\u001b[49m\u001b[38;5;124;43m\"\u001b[39;49m\u001b[38;5;124;43mapi_key\u001b[39;49m\u001b[38;5;124;43m\"\u001b[39;49m\u001b[43m:\u001b[49m\u001b[38;5;124;43m\"\u001b[39;49m\u001b[38;5;124;43m123423\u001b[39;49m\u001b[38;5;124;43m\"\u001b[39;49m\u001b[43m}\u001b[49m\u001b[43m)\u001b[49m\n",
      "File \u001b[0;32m~/GitHub/llmada/src/llmada/core.py:448\u001b[0m, in \u001b[0;36mset_llama_index\u001b[0;34m(api_key, api_base, model, temperature, llm_config, embed_config)\u001b[0m\n\u001b[1;32m    444\u001b[0m \u001b[38;5;28;01mfrom\u001b[39;00m\u001b[38;5;250m \u001b[39m\u001b[38;5;21;01mllama_index\u001b[39;00m\u001b[38;5;21;01m.\u001b[39;00m\u001b[38;5;21;01membeddings\u001b[39;00m\u001b[38;5;21;01m.\u001b[39;00m\u001b[38;5;21;01mopenai\u001b[39;00m\u001b[38;5;250m \u001b[39m\u001b[38;5;28;01mimport\u001b[39;00m OpenAIEmbedding\n\u001b[1;32m    446\u001b[0m api_key\u001b[38;5;241m=\u001b[39mapi_key \u001b[38;5;129;01mor\u001b[39;00m os\u001b[38;5;241m.\u001b[39mgetenv(\u001b[38;5;124m'\u001b[39m\u001b[38;5;124mBIANXIE_API_KEY\u001b[39m\u001b[38;5;124m'\u001b[39m)\n\u001b[0;32m--> 448\u001b[0m client \u001b[38;5;241m=\u001b[39m OpenAI(\n\u001b[1;32m    449\u001b[0m     model\u001b[38;5;241m=\u001b[39mmodel,\n\u001b[1;32m    450\u001b[0m     api_base\u001b[38;5;241m=\u001b[39mapi_base,\n\u001b[1;32m    451\u001b[0m     api_key\u001b[38;5;241m=\u001b[39mapi_key,\n\u001b[1;32m    452\u001b[0m     temperature\u001b[38;5;241m=\u001b[39mtemperature,\n\u001b[1;32m    453\u001b[0m     \u001b[38;5;241m*\u001b[39m\u001b[38;5;241m*\u001b[39mllm_config\n\u001b[1;32m    454\u001b[0m )\n\u001b[1;32m    455\u001b[0m embedding \u001b[38;5;241m=\u001b[39m OpenAIEmbedding(api_base\u001b[38;5;241m=\u001b[39mapi_base,api_key\u001b[38;5;241m=\u001b[39mapi_key,\u001b[38;5;241m*\u001b[39m\u001b[38;5;241m*\u001b[39membed_config)\n\u001b[1;32m    456\u001b[0m Settings\u001b[38;5;241m.\u001b[39membed_model \u001b[38;5;241m=\u001b[39m embedding\n",
      "\u001b[0;31mTypeError\u001b[0m: llama_index.llms.openai.base.OpenAI() got multiple values for keyword argument 'api_key'"
     ]
    }
   ],
   "source": [
    "set_llama_index(llm_config = {\"api_key\":\"123423\"})"
   ]
  },
  {
   "cell_type": "code",
   "execution_count": null,
   "id": "e4554ef4-d62b-4265-b3bd-90573a52aecc",
   "metadata": {},
   "outputs": [],
   "source": []
  },
  {
   "cell_type": "markdown",
   "id": "e6aa72d0-73a2-480d-8700-8fab6ef13701",
   "metadata": {},
   "source": [
    "## bianxie"
   ]
  },
  {
   "cell_type": "code",
   "execution_count": 26,
   "id": "034b019a-adf8-4ab6-b834-df9dc3bcd937",
   "metadata": {
    "tags": []
   },
   "outputs": [],
   "source": [
    "from llmada.core import GoogleAdapter"
   ]
  },
  {
   "cell_type": "code",
   "execution_count": 27,
   "id": "0de07a0d-8ec6-4dff-9c56-7297877640bd",
   "metadata": {
    "tags": []
   },
   "outputs": [],
   "source": [
    "model = GoogleAdapter()"
   ]
  },
  {
   "cell_type": "code",
   "execution_count": 31,
   "id": "96d8257d-ca01-4eea-98dc-60a34fd51d74",
   "metadata": {
    "tags": []
   },
   "outputs": [
    {
     "data": {
      "text/plain": [
       "'gemini-2.5-flash-preview-04-17'"
      ]
     },
     "execution_count": 31,
     "metadata": {},
     "output_type": "execute_result"
    }
   ],
   "source": [
    "model.model_name"
   ]
  },
  {
   "cell_type": "code",
   "execution_count": 28,
   "id": "d1baf052-7b32-4dcb-a7c2-3a2385cac5a0",
   "metadata": {},
   "outputs": [
    {
     "data": {
      "text/plain": [
       "'你好！有什么可以帮你的吗？'"
      ]
     },
     "execution_count": 28,
     "metadata": {},
     "output_type": "execute_result"
    }
   ],
   "source": [
    "model.product('你好')"
   ]
  },
  {
   "cell_type": "code",
   "execution_count": 29,
   "id": "c953e7d7-d9e1-435d-b890-8accfdf1fc0d",
   "metadata": {
    "tags": []
   },
   "outputs": [
    {
     "data": {
      "text/plain": [
       "'你好！有什么我可以帮您的吗？'"
      ]
     },
     "execution_count": 29,
     "metadata": {},
     "output_type": "execute_result"
    }
   ],
   "source": [
    "model.chat([{'role':'user','content':'你好'}])"
   ]
  }
 ],
 "metadata": {
  "kernelspec": {
   "display_name": "Python 3 (ipykernel)",
   "language": "python",
   "name": "python3"
  },
  "language_info": {
   "codemirror_mode": {
    "name": "ipython",
    "version": 3
   },
   "file_extension": ".py",
   "mimetype": "text/x-python",
   "name": "python",
   "nbconvert_exporter": "python",
   "pygments_lexer": "ipython3",
   "version": "3.10.16"
  }
 },
 "nbformat": 4,
 "nbformat_minor": 5
}
